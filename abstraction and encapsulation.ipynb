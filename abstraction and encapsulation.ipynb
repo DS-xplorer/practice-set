{
 "cells": [
  {
   "cell_type": "markdown",
   "id": "6233936e-6e26-4db5-8cf3-177799e7a733",
   "metadata": {},
   "source": [
    " What is Abstraction in OOps? Explain with an example.\n",
    "\n",
    "\n",
    "Abstraction is used to hide the internal functionality of the function from the users. The users only interact \n",
    "with the basic implementation of the function, but inner working is hidden. User is familiar with that \"what function does\" but\n",
    "they don't know \"how it does.\""
   ]
  },
  {
   "cell_type": "code",
   "execution_count": 20,
   "id": "ce89cf18-ff9f-4d3e-a0af-95590bd79c6b",
   "metadata": {},
   "outputs": [],
   "source": [
    "import abc\n",
    "\n",
    "class test:\n",
    "    @abc.abstractmethod\n",
    "    def student(self):\n",
    "        pass\n",
    "    \n",
    "    @abc.abstractmethod\n",
    "    def student_marks(self):\n",
    "        pass\n",
    "    \n",
    "    @abc.abstractmethod\n",
    "    def student_age(Self):\n",
    "        pass\n"
   ]
  },
  {
   "cell_type": "code",
   "execution_count": 21,
   "id": "517918e7-7a3d-4572-b8d8-4b428a0b87df",
   "metadata": {},
   "outputs": [],
   "source": [
    "class test1(test):\n",
    "    def student(self):\n",
    "        return \"this is vibhs\"\n",
    "    def student_marks(self):\n",
    "        return \"marks is 100\"\n",
    "    def student_age(self):\n",
    "        return \"age is 20\""
   ]
  },
  {
   "cell_type": "code",
   "execution_count": 24,
   "id": "6343c157-7f3e-47f4-87cb-4fd8a7ceb820",
   "metadata": {},
   "outputs": [],
   "source": [
    "obj=test1()"
   ]
  },
  {
   "cell_type": "code",
   "execution_count": 26,
   "id": "82552aa7-1b4a-404f-9298-aeff5ea01a93",
   "metadata": {},
   "outputs": [
    {
     "data": {
      "text/plain": [
       "'this is vibhs'"
      ]
     },
     "execution_count": 26,
     "metadata": {},
     "output_type": "execute_result"
    }
   ],
   "source": [
    "obj.student()"
   ]
  },
  {
   "cell_type": "code",
   "execution_count": null,
   "id": "75ab1bc0-de8d-43f8-88f6-d951a4a43b2f",
   "metadata": {},
   "outputs": [],
   "source": []
  }
 ],
 "metadata": {
  "kernelspec": {
   "display_name": "Python 3 (ipykernel)",
   "language": "python",
   "name": "python3"
  },
  "language_info": {
   "codemirror_mode": {
    "name": "ipython",
    "version": 3
   },
   "file_extension": ".py",
   "mimetype": "text/x-python",
   "name": "python",
   "nbconvert_exporter": "python",
   "pygments_lexer": "ipython3",
   "version": "3.10.8"
  }
 },
 "nbformat": 4,
 "nbformat_minor": 5
}
