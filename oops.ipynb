{
 "cells": [
  {
   "cell_type": "markdown",
   "id": "e1ba5e85-313c-4b42-bef6-0a1212f0f0e4",
   "metadata": {},
   "source": [
    "Create a vehicle class with an init method having instance variables as name_of_vehicle, max_speed\n",
    "and average_of_vehicle."
   ]
  },
  {
   "cell_type": "code",
   "execution_count": 13,
   "id": "d2e383a4-cc59-41fd-8e14-b4f01acd4d5d",
   "metadata": {},
   "outputs": [],
   "source": [
    "class vehicle:\n",
    "    def __init__(self,name_of_vehicle,max_speed,average_of_vehicle):\n",
    "        self.name_of_vehicle=name_of_vehicle\n",
    "        self.max_speed=max_speed\n",
    "        self.average_of_vehicle=average_of_vehicle\n",
    "    \n",
    "    def return_value(self):\n",
    "        return self.name_of_vehicle,self.max_speed,self.average_of_vehicle\n",
    "        \n",
    "    "
   ]
  },
  {
   "cell_type": "code",
   "execution_count": 94,
   "id": "2155c6c5-2b60-4ff4-9cb4-a0be93942346",
   "metadata": {},
   "outputs": [],
   "source": [
    "obj=vehicle(\"cycle\",120,80)"
   ]
  },
  {
   "cell_type": "code",
   "execution_count": 95,
   "id": "cae6e8ae-57c1-466e-8438-fd03f6129445",
   "metadata": {},
   "outputs": [
    {
     "data": {
      "text/plain": [
       "('cycle', 120, 80)"
      ]
     },
     "execution_count": 95,
     "metadata": {},
     "output_type": "execute_result"
    }
   ],
   "source": [
    "obj.return_value()"
   ]
  },
  {
   "cell_type": "markdown",
   "id": "2b8f418d-37fb-43f0-b9a7-0f6ed3bfcd3b",
   "metadata": {},
   "source": [
    "Create a child class car from the vehicle class created in Que 1, which will inherit the vehicle class.\n",
    "Create a method named seating_capacity which takes capacity as an argument and returns the name of\n",
    "the vehicle and its seating capacity."
   ]
  },
  {
   "cell_type": "code",
   "execution_count": 63,
   "id": "b956d2ba-4dd1-4182-b598-ec93c4f692dd",
   "metadata": {},
   "outputs": [],
   "source": [
    "class car(vehicle):\n",
    "      def seating_capacity(self, capacity):\n",
    "            return self.name_of_vehicle,capacity"
   ]
  },
  {
   "cell_type": "code",
   "execution_count": 64,
   "id": "a25fc50e-44b3-4a43-8ec6-41e149f886a2",
   "metadata": {},
   "outputs": [],
   "source": [
    "car_obj=car(\"car\",200,100)"
   ]
  },
  {
   "cell_type": "code",
   "execution_count": 65,
   "id": "4fb96509-4b12-4449-afa0-5b68302aa81e",
   "metadata": {},
   "outputs": [
    {
     "data": {
      "text/plain": [
       "('car', 6)"
      ]
     },
     "execution_count": 65,
     "metadata": {},
     "output_type": "execute_result"
    }
   ],
   "source": [
    "car_obj.seating_capacity(6)"
   ]
  },
  {
   "cell_type": "markdown",
   "id": "c31855ce-76a4-4d26-afb3-e9d6e30a49fe",
   "metadata": {},
   "source": [
    "What is multiple inheritance? Write a python code to demonstrate multiple inheritance."
   ]
  },
  {
   "cell_type": "code",
   "execution_count": 71,
   "id": "ae5c07c2-f77a-4aad-9617-caa71287c870",
   "metadata": {},
   "outputs": [],
   "source": [
    "\"\"\"multiple inheritance is a way to inherit many classes in a single class lets understand this by using example \"\"\"\n",
    "\n",
    "class class1:\n",
    "    def __init__(self,name,age):\n",
    "        self.name=name\n",
    "        self.age=age\n",
    "        \n",
    "class class2:\n",
    "    def cource(self,name_cource):\n",
    "        return name_cource\n",
    "\n",
    "class class3(class1,class2):\n",
    "    def fees(self,amount):\n",
    "        return amount\n",
    "        "
   ]
  },
  {
   "cell_type": "code",
   "execution_count": 72,
   "id": "de1a378c-c05d-42c9-93aa-1ca2d81ea658",
   "metadata": {},
   "outputs": [],
   "source": [
    "obj=class3(\"vibha\",20)"
   ]
  },
  {
   "cell_type": "code",
   "execution_count": 73,
   "id": "7437f93a-b013-4877-9273-bd39684592ba",
   "metadata": {},
   "outputs": [
    {
     "data": {
      "text/plain": [
       "'data_science'"
      ]
     },
     "execution_count": 73,
     "metadata": {},
     "output_type": "execute_result"
    }
   ],
   "source": [
    "obj.cource(\"data_science\")"
   ]
  },
  {
   "cell_type": "markdown",
   "id": "e2d3391f-eaa4-4eab-9b54-b793f3d7305f",
   "metadata": {},
   "source": [
    "Q4. What are getter and setter in python? Create a class and create a getter and a setter method in this\n",
    "class."
   ]
  },
  {
   "cell_type": "markdown",
   "id": "eea676f7-d6a2-4585-8269-829f59b0ebb3",
   "metadata": {},
   "source": [
    "getter and setter in python are used to get and set those data which is private basically which is not acces by user only\n",
    "coder will know it"
   ]
  },
  {
   "cell_type": "code",
   "execution_count": 89,
   "id": "9cd10420-c1d7-4fb2-8918-adbef1dd8728",
   "metadata": {},
   "outputs": [],
   "source": [
    "class clas1:\n",
    "    def __init__(self,balance):\n",
    "        self._balance=balance\n",
    "    \n",
    "    def set_balance(self,amount):\n",
    "        self.balance =self._balance+amount\n",
    "    \n",
    "    def get_balance(self):\n",
    "        return self.balance"
   ]
  },
  {
   "cell_type": "code",
   "execution_count": 90,
   "id": "98d14165-4bc9-40b7-bb4a-b51d55334a61",
   "metadata": {},
   "outputs": [],
   "source": [
    "objj=clas1(4000)"
   ]
  },
  {
   "cell_type": "code",
   "execution_count": 91,
   "id": "17c261a5-d4bf-42b6-901a-446f3b3ab5a5",
   "metadata": {},
   "outputs": [],
   "source": [
    "objj.set_balance(500)"
   ]
  },
  {
   "cell_type": "code",
   "execution_count": 93,
   "id": "59a8b63f-c591-4cd1-b0f4-bd1a6eb73791",
   "metadata": {},
   "outputs": [
    {
     "data": {
      "text/plain": [
       "4500"
      ]
     },
     "execution_count": 93,
     "metadata": {},
     "output_type": "execute_result"
    }
   ],
   "source": [
    "objj.get_balance()"
   ]
  },
  {
   "cell_type": "code",
   "execution_count": null,
   "id": "660bbf92-b691-450e-8858-7407f3b95e9d",
   "metadata": {},
   "outputs": [],
   "source": []
  },
  {
   "cell_type": "code",
   "execution_count": null,
   "id": "e749c93f-58de-4c9a-9161-8153f79907a4",
   "metadata": {},
   "outputs": [],
   "source": []
  }
 ],
 "metadata": {
  "kernelspec": {
   "display_name": "Python 3 (ipykernel)",
   "language": "python",
   "name": "python3"
  },
  "language_info": {
   "codemirror_mode": {
    "name": "ipython",
    "version": 3
   },
   "file_extension": ".py",
   "mimetype": "text/x-python",
   "name": "python",
   "nbconvert_exporter": "python",
   "pygments_lexer": "ipython3",
   "version": "3.10.8"
  }
 },
 "nbformat": 4,
 "nbformat_minor": 5
}
