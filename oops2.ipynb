{
 "cells": [
  {
   "cell_type": "markdown",
   "id": "fe247838-c2af-4164-9cd1-5384735640da",
   "metadata": {},
   "source": [
    "Explain Class and Object with respect to Object-Oriented Programming. Give a suitable example."
   ]
  },
  {
   "cell_type": "markdown",
   "id": "d20d7c47-faf6-4dae-aa45-a62fa3a9658a",
   "metadata": {},
   "source": [
    "a class is a code templete for creating object and object have member variables and have behaviour  associated with them. in python \n",
    "a class is created by the keyword class.\n",
    "an object is created using the constructer of the class."
   ]
  },
  {
   "cell_type": "code",
   "execution_count": 1,
   "id": "05731ec4-21de-4c52-8330-d72481135976",
   "metadata": {},
   "outputs": [],
   "source": [
    "class class1:\n",
    "    def __init__(self,name):\n",
    "        self.name=name\n",
    "    \n",
    "    def print_name(self):\n",
    "        return self.name"
   ]
  },
  {
   "cell_type": "code",
   "execution_count": 2,
   "id": "a170e9ed-71c1-4ae5-a813-7b620ca99934",
   "metadata": {},
   "outputs": [],
   "source": [
    "obj=class1(\"vibha\")"
   ]
  },
  {
   "cell_type": "code",
   "execution_count": 3,
   "id": "0a9dc67e-adcd-4f11-8ffd-819d4fc58a9f",
   "metadata": {},
   "outputs": [
    {
     "data": {
      "text/plain": [
       "'vibha'"
      ]
     },
     "execution_count": 3,
     "metadata": {},
     "output_type": "execute_result"
    }
   ],
   "source": [
    "obj.print_name()"
   ]
  },
  {
   "cell_type": "markdown",
   "id": "f714d707-9f75-493a-8f32-e5f2b80b6125",
   "metadata": {},
   "source": [
    "Name the four pillars of OOPs."
   ]
  },
  {
   "cell_type": "markdown",
   "id": "e520cc0e-97ee-4fb1-965f-94d8b4cddaa0",
   "metadata": {},
   "source": [
    "1.polymorphism\n",
    "2.inheritance\n",
    "3.encapsulation\n",
    "4.abstraction"
   ]
  },
  {
   "cell_type": "markdown",
   "id": "1c581fbc-4851-4d65-a58b-90d81940970e",
   "metadata": {},
   "source": [
    "Explain why the __init__() function is used. Give a suitable example."
   ]
  },
  {
   "cell_type": "code",
   "execution_count": 4,
   "id": "942c3c86-c561-4934-b31e-0a008a2ea80f",
   "metadata": {},
   "outputs": [],
   "source": [
    "\"\"\"the init function is used in a classes to get the data from the user \"\"\"\n",
    "class student:\n",
    "    def __init__(self,name):\n",
    "        self.name=name\n",
    "    \n",
    "    def return_(self):\n",
    "        return self.name"
   ]
  },
  {
   "cell_type": "code",
   "execution_count": 5,
   "id": "2388775d-a77f-4d8b-a92f-3bdd295e8d20",
   "metadata": {},
   "outputs": [],
   "source": [
    "student_obj=student(\"aashish\")"
   ]
  },
  {
   "cell_type": "code",
   "execution_count": 6,
   "id": "394c1d03-0312-4a42-b605-126b6f409daa",
   "metadata": {},
   "outputs": [
    {
     "data": {
      "text/plain": [
       "'aashish'"
      ]
     },
     "execution_count": 6,
     "metadata": {},
     "output_type": "execute_result"
    }
   ],
   "source": [
    "student_obj.name"
   ]
  },
  {
   "cell_type": "markdown",
   "id": "85a11800-019a-41b7-bc12-eadc00d1928d",
   "metadata": {},
   "source": [
    ". Why self is used in OOPs?\n",
    "\n",
    "the self varible is used to represent the instance of the class . basically it work as pointer inside the class "
   ]
  },
  {
   "cell_type": "markdown",
   "id": "0db87500-5c71-45f9-9c42-8af13e63cd4f",
   "metadata": {},
   "source": [
    "What is inheritance? Give an example for each type of inheritance."
   ]
  },
  {
   "cell_type": "code",
   "execution_count": 10,
   "id": "5e96faa1-1b14-4b72-94b5-ab59b13870c9",
   "metadata": {},
   "outputs": [],
   "source": [
    "\"\"\"inheritance is a way to inherit the data from the other class \"\"\"\n",
    "class class1:\n",
    "    def __init__(self,name):\n",
    "        self.name=name\n",
    "    def print_(self):\n",
    "        return self.name\n",
    "    \n",
    "class class2(class1):\n",
    "    def age(self,age):\n",
    "        return age\n",
    "\n",
    "class class3(class2):\n",
    "    def marks(self,marks):\n",
    "        return marks"
   ]
  },
  {
   "cell_type": "code",
   "execution_count": 11,
   "id": "f9b5f38e-cf62-4a5f-9301-02833f7b0eb1",
   "metadata": {},
   "outputs": [],
   "source": [
    "class_obj=class3(\"vibha\")"
   ]
  },
  {
   "cell_type": "code",
   "execution_count": 12,
   "id": "9442d2bb-e703-4ecb-a811-855492f82a05",
   "metadata": {},
   "outputs": [
    {
     "data": {
      "text/plain": [
       "100"
      ]
     },
     "execution_count": 12,
     "metadata": {},
     "output_type": "execute_result"
    }
   ],
   "source": [
    "class_obj.marks(100)"
   ]
  },
  {
   "cell_type": "code",
   "execution_count": null,
   "id": "9e6839aa-05e9-485b-aea5-6c0f2f4a785e",
   "metadata": {},
   "outputs": [],
   "source": [
    "class_ob"
   ]
  }
 ],
 "metadata": {
  "kernelspec": {
   "display_name": "Python 3 (ipykernel)",
   "language": "python",
   "name": "python3"
  },
  "language_info": {
   "codemirror_mode": {
    "name": "ipython",
    "version": 3
   },
   "file_extension": ".py",
   "mimetype": "text/x-python",
   "name": "python",
   "nbconvert_exporter": "python",
   "pygments_lexer": "ipython3",
   "version": "3.10.8"
  }
 },
 "nbformat": 4,
 "nbformat_minor": 5
}
