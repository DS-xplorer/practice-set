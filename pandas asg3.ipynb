{
 "cells": [
  {
   "cell_type": "code",
   "execution_count": 3,
   "id": "81b2c340",
   "metadata": {},
   "outputs": [
    {
     "data": {
      "text/html": [
       "<div>\n",
       "<style scoped>\n",
       "    .dataframe tbody tr th:only-of-type {\n",
       "        vertical-align: middle;\n",
       "    }\n",
       "\n",
       "    .dataframe tbody tr th {\n",
       "        vertical-align: top;\n",
       "    }\n",
       "\n",
       "    .dataframe thead th {\n",
       "        text-align: right;\n",
       "    }\n",
       "</style>\n",
       "<table border=\"1\" class=\"dataframe\">\n",
       "  <thead>\n",
       "    <tr style=\"text-align: right;\">\n",
       "      <th></th>\n",
       "      <th>course_name</th>\n",
       "      <th>duration</th>\n",
       "    </tr>\n",
       "  </thead>\n",
       "  <tbody>\n",
       "    <tr>\n",
       "      <th>0</th>\n",
       "      <td>Data Science</td>\n",
       "      <td>2</td>\n",
       "    </tr>\n",
       "    <tr>\n",
       "      <th>1</th>\n",
       "      <td>Machine Learning’</td>\n",
       "      <td>3</td>\n",
       "    </tr>\n",
       "    <tr>\n",
       "      <th>2</th>\n",
       "      <td>Big Data</td>\n",
       "      <td>6</td>\n",
       "    </tr>\n",
       "    <tr>\n",
       "      <th>3</th>\n",
       "      <td>Data Engineer</td>\n",
       "      <td>4</td>\n",
       "    </tr>\n",
       "  </tbody>\n",
       "</table>\n",
       "</div>"
      ],
      "text/plain": [
       "         course_name  duration\n",
       "0       Data Science         2\n",
       "1  Machine Learning’         3\n",
       "2           Big Data         6\n",
       "3      Data Engineer         4"
      ]
     },
     "execution_count": 3,
     "metadata": {},
     "output_type": "execute_result"
    }
   ],
   "source": [
    "import pandas as pd\n",
    "course_name = [\"Data Science\", \"Machine Learning’\", \"Big Data\", \"Data Engineer\"]\n",
    "duration = [2,3,6,4]\n",
    "df = pd.DataFrame( {\"course_name\" : course_name, \"duration\" : duration})\n",
    "df\n"
   ]
  },
  {
   "cell_type": "code",
   "execution_count": 12,
   "id": "9618be39",
   "metadata": {},
   "outputs": [
    {
     "name": "stdout",
     "output_type": "stream",
     "text": [
      "         course_name  duration\n",
      "1  Machine Learning’         3\n",
      "we can print like this\n",
      "course_name    Machine Learning’\n",
      "duration                       3\n",
      "Name: 1, dtype: object\n"
     ]
    }
   ],
   "source": [
    "# Q1. Write a code to print the data present in the second row of the dataframe, df.\n",
    "\n",
    "print(df[[\"course_name\",\"duration\"]][1:2])\n",
    "print(\"we can print like this\")\n",
    "print(df.loc[1])"
   ]
  },
  {
   "cell_type": "code",
   "execution_count": null,
   "id": "f13cb942",
   "metadata": {},
   "outputs": [
    {
     "name": "stdout",
     "output_type": "stream",
     "text": [
      "   column_1  column_2  column_3  column_4  column_5  column_6\n",
      "1  0.018216  0.931357  0.520458  0.153768  0.952555  0.106048\n",
      "2  0.541098  0.744690  0.582494  0.487276  0.590740  0.539817\n",
      "3  0.002020  0.900469  0.092469  0.476658  0.586126  0.137947\n",
      "4  0.964835  0.967411  0.282987  0.673180  0.295043  0.074016\n",
      "5  0.466135  0.465527  0.899210  0.503161  0.965692  0.514768\n",
      "6  0.012609  0.202743  0.077610  0.839203  0.262671  0.983862\n",
      "   column_1  column_2  column_3  column_4  column_5  column_6\n",
      "3  0.002020  0.900469  0.092469  0.476658  0.586126  0.137947\n",
      "0       NaN       NaN       NaN       NaN       NaN       NaN\n",
      "1  0.018216  0.931357  0.520458  0.153768  0.952555  0.106048\n",
      "2  0.541098  0.744690  0.582494  0.487276  0.590740  0.539817\n"
     ]
    }
   ],
   "source": [
    "# Reindex the given dataframe using a variable, reindex = [3,0,1,2] and store it in the variable, new_df then find the output for \n",
    "# both new_df.loc[2] and new_df.iloc[2].\n",
    "\n",
    "# Did you observe any difference in both the outputs? If so then explain it.\n",
    "\n",
    "import pandas as pd\n",
    "import numpy as np\n",
    "columns = ['column_1', 'column_2', 'column_3', 'column_4', 'column_5', 'column_6']\n",
    "indices = [1,2,3,4,5,6]\n",
    "#Creating a dataframe:\n",
    "df = pd.DataFrame(np.random.rand(6,6), columns = columns, index = indices)\n",
    "print(df)\n",
    "new_df=df.reindex([3,0,1,2])\n",
    "print(new_df)\n",
    "\n"
   ]
  },
  {
   "cell_type": "code",
   "execution_count": 75,
   "id": "5e2d731d",
   "metadata": {},
   "outputs": [
    {
     "name": "stdout",
     "output_type": "stream",
     "text": [
      "column_1    0.541098\n",
      "column_2    0.744690\n",
      "column_3    0.582494\n",
      "column_4    0.487276\n",
      "column_5    0.590740\n",
      "column_6    0.539817\n",
      "Name: 2, dtype: float64\n",
      "column_1    0.018216\n",
      "column_2    0.931357\n",
      "column_3    0.520458\n",
      "column_4    0.153768\n",
      "column_5    0.952555\n",
      "column_6    0.106048\n",
      "Name: 1, dtype: float64\n"
     ]
    }
   ],
   "source": [
    "print(df.loc[2])\n",
    "\n",
    "print(new_df.iloc[2])"
   ]
  },
  {
   "cell_type": "code",
   "execution_count": 69,
   "id": "a16bd432",
   "metadata": {},
   "outputs": [
    {
     "data": {
      "text/plain": [
       "'\" so i observe a differce between df.loc[2] and df.iloc[2]  that df.loc[2] give \\nthe output according the assign or given index and df.iloc[2] give the output according to default index\\n'"
      ]
     },
     "execution_count": 69,
     "metadata": {},
     "output_type": "execute_result"
    }
   ],
   "source": [
    "\n",
    "\n",
    "\"\"\"\" so i observe a differce between df.loc[2] and df.iloc[2]  that df.loc[2] give \n",
    "the output according the assign or given index and df.iloc[2] give the output according to default index\n",
    "\"\"\""
   ]
  },
  {
   "cell_type": "code",
   "execution_count": 13,
   "id": "317bc7d5",
   "metadata": {},
   "outputs": [
    {
     "data": {
      "text/plain": [
       "'\" it shows the error because we cannot find the average of string and numerice value both the valse should be in integer and float dtype '"
      ]
     },
     "execution_count": 13,
     "metadata": {},
     "output_type": "execute_result"
    }
   ],
   "source": [
    "# Q5. Replace the data present in the second row of column, ‘column_2’ by a string variable then find the mean of column, column_2.\n",
    "# If you are getting errors in executing it then explain why. \n",
    "# [Hint: To replace the data use df1.loc[] and equate this to string data of your choice.]\n",
    "\n",
    "import pandas as pd\n",
    "df = pd.DataFrame({\n",
    "    'column_1': [10, 20, 30],\n",
    "    'column_2': [1.5, 2.5, 3.5]\n",
    "})\n",
    "#df.loc[1,[\"column_2\"]]=\"hello\"\n",
    "mean_col2=df[\"column_2\"].mean()\n",
    "\"\"\"\" it shows the error because we cannot find the average of string and numerice value both the valse should be in integer and float dtype \"\"\"\n"
   ]
  },
  {
   "cell_type": "code",
   "execution_count": null,
   "id": "3d9c2f70",
   "metadata": {},
   "outputs": [
    {
     "name": "stdout",
     "output_type": "stream",
     "text": [
      "7\n",
      "2025\n"
     ]
    }
   ],
   "source": [
    "#  Write a code to print only the current month and year at the time of answering this question.\n",
    "\n",
    "from datetime import datetime\n",
    "current_month=datetime.now().month\n",
    "print(current_month)\n",
    "\n",
    "current_year=datetime.now().year\n",
    "print(current_year)\n",
    "\n"
   ]
  },
  {
   "cell_type": "code",
   "execution_count": null,
   "id": "5bbbafc4",
   "metadata": {},
   "outputs": [],
   "source": [
    "#Q8. Write a Python program that takes in two dates as input (in the format YYYY-MM-DD) and calculates\n",
    "#  the difference between them in days, hours, and minutes using Pandas time delta. The \n",
    "# program should prompt the user to enter the dates and display the result.\n",
    "\n",
    "import pandas as pd\n",
    "a=input(\"enter the date in the format YYYY-MM-DD 1:\")\n",
    "b=input(\"enter the date in the format YYYY-MM-DD 2:\")\n",
    "a1=pd.to_datetime(a)\n",
    "b1=pd.to_datetime(b)\n",
    "delta=b1-a1\n",
    "days=delta.days\n",
    "hours = delta.seconds // 3600\n",
    "minutes = (delta.seconds % 3600) // 60\n",
    "print(days,hours,minutes)"
   ]
  },
  {
   "cell_type": "code",
   "execution_count": null,
   "id": "6ba51121",
   "metadata": {},
   "outputs": [],
   "source": [
    "\n",
    "# Q9. Write a Python program that reads a CSV file containing categorical data and converts a specified \n",
    "# column to a categorical data type. The program should prompt the user to enter the file path, column\n",
    "# name, and category order, and then display the sorted data.\n",
    "\n",
    "file_path=input(\"enter the file path:\")\n",
    "col=input(\"enter the col name:\")\n",
    "order=input(\"enter the order of categories with com :\").split(',')\n",
    "df=pd.read_csv(file_path)\n",
    "col=pd.Categorical(df[col],categories=order,ordered=True)\n",
    "df_sort=df.sort_values(col)\n",
    "print(df_sort)\n"
   ]
  },
  {
   "cell_type": "code",
   "execution_count": null,
   "id": "db5c39d8",
   "metadata": {},
   "outputs": [],
   "source": [
    "\n",
    "# Q10. Write a Python program that reads a CSV file containing sales data for different products and \n",
    "# visualizes the data using a stacked bar chart to show the sales of each product category over time. The\n",
    "# program should prompt the user to enter the file path and display the chart.\n",
    "\n",
    "import pandas as pd\n",
    "import matplotlib.pyplot as plt\n",
    "\n",
    "file_path=input(\"file_path\")\n",
    "df=pd.read_csv(file_path)\n",
    "df['Date'] = pd.to_datetime(df['Date'])\n",
    "pivot_table=pd.pivot_table(index=\"data\", columns=\"Category\", values=\"sales\",aggfunc=\"sum\")\n",
    "table.plot.bar(stacked=True)\n",
    "\n",
    "plt.xlabel(\"Date\")\n",
    "plt.ylabel(\"Sales\")\n",
    "plt.title(\"Sales by Product Category Over Time\")\n",
    "plt.tight_layout()\n",
    "plt.show()\n"
   ]
  },
  {
   "cell_type": "code",
   "execution_count": null,
   "id": "eb73f3c9",
   "metadata": {},
   "outputs": [],
   "source": []
  },
  {
   "cell_type": "code",
   "execution_count": null,
   "id": "394e6d4f",
   "metadata": {},
   "outputs": [],
   "source": [
    "#Q11. You are given a CSV file containing student data that includes the student ID and their test score. Write\n",
    "# Python program that reads the CSV file, calculates the mean, median, and mode of the test scores, and\n",
    "# displays the results in a table.\n",
    "\n",
    "import pandas as pd\n",
    "\n",
    "file_path = input(\"Enter the path to the student CSV file: \")\n",
    "df = pd.read_csv(file_path)\n",
    "\n",
    "mean_score = df['Score'].mean()\n",
    "median_score = df['Score'].median()\n",
    "mode_score = df['Score'].mode() \n",
    "result = pd.DataFrame({\n",
    "    'Statistic': ['Mean', 'Median', 'Mode'],\n",
    "    'Score': [mean_score, median_score, ', '.join(map(str, mode_score))]\n",
    "})\n",
    "\n",
    "print(result)"
   ]
  }
 ],
 "metadata": {
  "kernelspec": {
   "display_name": "Python 3",
   "language": "python",
   "name": "python3"
  },
  "language_info": {
   "codemirror_mode": {
    "name": "ipython",
    "version": 3
   },
   "file_extension": ".py",
   "mimetype": "text/x-python",
   "name": "python",
   "nbconvert_exporter": "python",
   "pygments_lexer": "ipython3",
   "version": "3.12.4"
  }
 },
 "nbformat": 4,
 "nbformat_minor": 5
}
