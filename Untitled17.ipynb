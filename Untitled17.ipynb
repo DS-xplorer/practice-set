{
 "cells": [
  {
   "cell_type": "code",
   "execution_count": 1,
   "id": "da3fa4c1-6961-4a84-87e8-25a0d50ac2f8",
   "metadata": {},
   "outputs": [],
   "source": [
    "# the def keyword is used to create the function "
   ]
  },
  {
   "cell_type": "code",
   "execution_count": 2,
   "id": "25910dd7-f629-40f3-bcf1-4ab0fad35709",
   "metadata": {},
   "outputs": [],
   "source": [
    "# here we use fuction to print thr odd number between 1 to25"
   ]
  },
  {
   "cell_type": "code",
   "execution_count": 11,
   "id": "7cd24e00-0230-4912-a232-46b4de943ab4",
   "metadata": {},
   "outputs": [],
   "source": [
    "def oddno(a,b):\n",
    "    for i in range(a,b):\n",
    "        \n",
    "        if i%2!=0:\n",
    "            print(i)\n",
    "        else:\n",
    "            continue"
   ]
  },
  {
   "cell_type": "code",
   "execution_count": 12,
   "id": "ee0ac23e-f285-4ebe-9648-fe5105fbaee6",
   "metadata": {},
   "outputs": [
    {
     "name": "stdout",
     "output_type": "stream",
     "text": [
      "1\n",
      "3\n",
      "5\n",
      "7\n",
      "9\n",
      "11\n",
      "13\n",
      "15\n",
      "17\n",
      "19\n",
      "21\n",
      "23\n",
      "25\n"
     ]
    }
   ],
   "source": [
    "oddno(1,26)"
   ]
  },
  {
   "cell_type": "code",
   "execution_count": null,
   "id": "39d18304-9a9b-4ad6-b29a-47fa99624c49",
   "metadata": {},
   "outputs": [],
   "source": []
  },
  {
   "cell_type": "code",
   "execution_count": null,
   "id": "9d39b585-66cc-43dc-9dd4-232aa69f3ef9",
   "metadata": {},
   "outputs": [],
   "source": []
  },
  {
   "cell_type": "code",
   "execution_count": null,
   "id": "4416fc24-77ca-44d1-a334-777decab2e4a",
   "metadata": {},
   "outputs": [],
   "source": []
  },
  {
   "cell_type": "code",
   "execution_count": 13,
   "id": "49b2f259-37d8-4ef5-a38a-34b1f45bfd1c",
   "metadata": {},
   "outputs": [],
   "source": [
    "# the *arg is used to get as much data you want , you cant take varibles , numbers etc\n",
    "# **kwargs is used to get the data in the form of dictionary\n",
    "# here is n example of boyh of these-"
   ]
  },
  {
   "cell_type": "code",
   "execution_count": 14,
   "id": "bdc1bc1d-2580-4a62-869f-8646cbdd8ed1",
   "metadata": {},
   "outputs": [],
   "source": [
    "def test(*arg):\n",
    "    return arg"
   ]
  },
  {
   "cell_type": "code",
   "execution_count": 15,
   "id": "203063e8-2f83-4458-a738-beee1cdfbb91",
   "metadata": {},
   "outputs": [
    {
     "data": {
      "text/plain": [
       "(1, 3, 'vibha', 'chitra', 45.6)"
      ]
     },
     "execution_count": 15,
     "metadata": {},
     "output_type": "execute_result"
    }
   ],
   "source": [
    "test(1,3,\"vibha\",\"chitra\",45.6)"
   ]
  },
  {
   "cell_type": "code",
   "execution_count": 20,
   "id": "f64ae6a1-e49e-42b4-9097-ddafa42a055a",
   "metadata": {},
   "outputs": [],
   "source": [
    "def test1(**kwarg):\n",
    "    return kwarg"
   ]
  },
  {
   "cell_type": "code",
   "execution_count": 21,
   "id": "48eed3a4-7635-40a0-9bfc-7b4011785b1a",
   "metadata": {},
   "outputs": [
    {
     "data": {
      "text/plain": [
       "{'a': 'vibha',\n",
       " 'b': 234,\n",
       " 'c': 45.7,\n",
       " 'd': 'rana',\n",
       " 'e': [1, 2, 3, 4, 5],\n",
       " 'f': (1, 2, 3, 4, 5),\n",
       " 'g': {1, 2, 3, 4}}"
      ]
     },
     "execution_count": 21,
     "metadata": {},
     "output_type": "execute_result"
    }
   ],
   "source": [
    "test1(a=\"vibha\",b=234,c=45.7,d=\"rana\",e=[1,2,3,4,5],f=(1,2,3,4,5),g={1,2,3,4,})"
   ]
  },
  {
   "cell_type": "code",
   "execution_count": 22,
   "id": "e44c9a17-440d-4896-b842-da14f4cca4cf",
   "metadata": {},
   "outputs": [],
   "source": [
    "# the iterator in the python is used to get the data one by one with the help of iter function \n",
    "# lets understand this by using the example"
   ]
  },
  {
   "cell_type": "code",
   "execution_count": 27,
   "id": "b48a5a3e-b993-42b9-85c6-cf9dd2925611",
   "metadata": {},
   "outputs": [],
   "source": [
    "l=[2,4,6,8,10,12,14,16,18,20]\n",
    "l1=iter(l)"
   ]
  },
  {
   "cell_type": "code",
   "execution_count": 28,
   "id": "9eb985e6-bc55-4cff-b0b7-1bbb561509df",
   "metadata": {},
   "outputs": [
    {
     "data": {
      "text/plain": [
       "2"
      ]
     },
     "execution_count": 28,
     "metadata": {},
     "output_type": "execute_result"
    }
   ],
   "source": [
    "next(l1)"
   ]
  },
  {
   "cell_type": "code",
   "execution_count": 29,
   "id": "abc4293d-f59b-4b02-9bff-114283f5c891",
   "metadata": {},
   "outputs": [
    {
     "data": {
      "text/plain": [
       "4"
      ]
     },
     "execution_count": 29,
     "metadata": {},
     "output_type": "execute_result"
    }
   ],
   "source": [
    "next(l1)"
   ]
  },
  {
   "cell_type": "code",
   "execution_count": 35,
   "id": "4b8c91da-b84f-4632-821b-2033369a02d9",
   "metadata": {},
   "outputs": [
    {
     "data": {
      "text/plain": [
       "12"
      ]
     },
     "execution_count": 35,
     "metadata": {},
     "output_type": "execute_result"
    }
   ],
   "source": [
    "next(l1)"
   ]
  },
  {
   "cell_type": "code",
   "execution_count": 31,
   "id": "3e17f7bd-2a34-4d08-9259-9ba0b9f9fc32",
   "metadata": {},
   "outputs": [
    {
     "data": {
      "text/plain": [
       "8"
      ]
     },
     "execution_count": 31,
     "metadata": {},
     "output_type": "execute_result"
    }
   ],
   "source": [
    "next(l1)"
   ]
  },
  {
   "cell_type": "code",
   "execution_count": 32,
   "id": "bc297964-ead8-45fb-8ff5-10c65c0eda4e",
   "metadata": {},
   "outputs": [
    {
     "data": {
      "text/plain": [
       "10"
      ]
     },
     "execution_count": 32,
     "metadata": {},
     "output_type": "execute_result"
    }
   ],
   "source": [
    "next(l1)"
   ]
  },
  {
   "cell_type": "markdown",
   "id": "687401a2-4fbd-4e6d-ba59-ca17feaa0f14",
   "metadata": {},
   "source": [
    "in python we use the generater function to generate the data while we are using it and it take less memory as compare to the memory is allocated\n",
    "to that  data . It only use the memory when we generating the data.no memory reserved here.\n",
    "yield  keyword is used to make the fuction is a generater function"
   ]
  },
  {
   "cell_type": "code",
   "execution_count": 102,
   "id": "1fb3c57c-d536-4045-9917-f00969f2aec3",
   "metadata": {},
   "outputs": [],
   "source": [
    "def test2(n):\n",
    "    for i in range(n):\n",
    "        yield i"
   ]
  },
  {
   "cell_type": "code",
   "execution_count": 103,
   "id": "e769c36d-cec0-4cc3-b6f0-3489c379a377",
   "metadata": {},
   "outputs": [
    {
     "data": {
      "text/plain": [
       "<generator object test2 at 0x7f29580a5230>"
      ]
     },
     "execution_count": 103,
     "metadata": {},
     "output_type": "execute_result"
    }
   ],
   "source": [
    "test2(56)"
   ]
  },
  {
   "cell_type": "code",
   "execution_count": 104,
   "id": "28cf4cd4-fa94-4a76-9185-f4493cba9520",
   "metadata": {},
   "outputs": [
    {
     "name": "stdout",
     "output_type": "stream",
     "text": [
      "0\n"
     ]
    }
   ],
   "source": [
    "print(next(test2(56)))"
   ]
  },
  {
   "cell_type": "code",
   "execution_count": 123,
   "id": "f033c1e7-7af3-416c-891b-e85205651c95",
   "metadata": {},
   "outputs": [],
   "source": [
    "def prime(n):\n",
    "    for i in range(n):\n",
    "        for j in i:\n",
    "            if i%j==0:\n",
    "                continue\n",
    "            else:\n",
    "                yield i"
   ]
  },
  {
   "cell_type": "code",
   "execution_count": 124,
   "id": "53dbe607-c3ff-4c2f-88bb-dbd7e27211d3",
   "metadata": {},
   "outputs": [
    {
     "data": {
      "text/plain": [
       "<generator object prime at 0x7f29580a6570>"
      ]
     },
     "execution_count": 124,
     "metadata": {},
     "output_type": "execute_result"
    }
   ],
   "source": [
    "prime(20)"
   ]
  },
  {
   "cell_type": "markdown",
   "id": "18643edd-cb48-4c9f-886d-c9ae464f2a8f",
   "metadata": {},
   "source": [
    "the first 10 Fibonacci numbers using a while loop."
   ]
  },
  {
   "cell_type": "code",
   "execution_count": 131,
   "id": "c52291c4-2462-4790-9eec-7f364aae34cd",
   "metadata": {},
   "outputs": [],
   "source": [
    "def fib(n):\n",
    "    a=0\n",
    "    b=1\n",
    "    i=1\n",
    "    while(i<=n):\n",
    "        print(a)\n",
    "        c=a+b\n",
    "        a=b\n",
    "        b=c\n",
    "        i+=1\n",
    "        "
   ]
  },
  {
   "cell_type": "code",
   "execution_count": 132,
   "id": "e100c031-b0db-4a2f-a76e-60a87ef40fe8",
   "metadata": {},
   "outputs": [
    {
     "name": "stdout",
     "output_type": "stream",
     "text": [
      "0\n",
      "1\n",
      "1\n",
      "2\n",
      "3\n",
      "5\n",
      "8\n",
      "13\n",
      "21\n",
      "34\n"
     ]
    }
   ],
   "source": [
    "fib(10)"
   ]
  },
  {
   "cell_type": "code",
   "execution_count": 33,
   "id": "9243f657-21a2-4655-8ba9-249128f244f7",
   "metadata": {},
   "outputs": [
    {
     "name": "stdout",
     "output_type": "stream",
     "text": [
      "['p', 'w', 's', 'k', 'i', 'l', 'l', 's']\n"
     ]
    }
   ],
   "source": [
    "s=[i for i in \"pwskills\"]\n",
    "print(s)"
   ]
  },
  {
   "cell_type": "code",
   "execution_count": 23,
   "id": "c70436ce-a0ca-4dad-8753-189dc1e3b8a1",
   "metadata": {},
   "outputs": [],
   "source": [
    "def palindrome(s):\n",
    "    return s==s[::-1]\n"
   ]
  },
  {
   "cell_type": "code",
   "execution_count": 2,
   "id": "457b2722-46c1-4b1b-b325-b3957269b4fb",
   "metadata": {},
   "outputs": [
    {
     "name": "stdout",
     "output_type": "stream",
     "text": [
      "yes\n"
     ]
    }
   ],
   "source": [
    "s=\"madam\"\n",
    "ans=palindrome(s)\n",
    "if ans:\n",
    "    print(\"yes\")\n",
    "else :\n",
    "    print(\"no\")"
   ]
  },
  {
   "cell_type": "code",
   "execution_count": 4,
   "id": "28862479-fc59-4cab-9856-26b6c9a04648",
   "metadata": {},
   "outputs": [],
   "source": [
    "def odd(n):\n",
    "    for i in range(n):\n",
    "        if i%2==0:\n",
    "            continue\n",
    "        else:\n",
    "            print(i)"
   ]
  },
  {
   "cell_type": "code",
   "execution_count": 6,
   "id": "38ca914f-919b-4b7c-9e5a-5fce127944b2",
   "metadata": {},
   "outputs": [
    {
     "name": "stdout",
     "output_type": "stream",
     "text": [
      "1\n",
      "3\n",
      "5\n",
      "7\n",
      "9\n"
     ]
    }
   ],
   "source": [
    "odd(10)"
   ]
  },
  {
   "cell_type": "markdown",
   "id": "278aefa4-0088-4785-bd00-7766ecfcc354",
   "metadata": {},
   "source": [
    "# by using list comprehension\n"
   ]
  },
  {
   "cell_type": "code",
   "execution_count": 29,
   "id": "acd5a714-19fb-4474-a09c-f4fa20263ec2",
   "metadata": {},
   "outputs": [],
   "source": [
    "odd=[x for x in range(10) if x%2!=0]"
   ]
  },
  {
   "cell_type": "code",
   "execution_count": 30,
   "id": "b9f875be-036d-45e5-8904-437fbc90a716",
   "metadata": {},
   "outputs": [
    {
     "name": "stdout",
     "output_type": "stream",
     "text": [
      "[1, 3, 5, 7, 9]\n"
     ]
    }
   ],
   "source": [
    "print(odd)"
   ]
  },
  {
   "cell_type": "code",
   "execution_count": null,
   "id": "c495675e-91ee-44a7-88e2-7b91face9d71",
   "metadata": {},
   "outputs": [],
   "source": []
  },
  {
   "cell_type": "code",
   "execution_count": null,
   "id": "ac786a1a-ff9c-4f2a-b0c9-a89acd429f21",
   "metadata": {},
   "outputs": [],
   "source": []
  }
 ],
 "metadata": {
  "kernelspec": {
   "display_name": "Python 3 (ipykernel)",
   "language": "python",
   "name": "python3"
  },
  "language_info": {
   "codemirror_mode": {
    "name": "ipython",
    "version": 3
   },
   "file_extension": ".py",
   "mimetype": "text/x-python",
   "name": "python",
   "nbconvert_exporter": "python",
   "pygments_lexer": "ipython3",
   "version": "3.10.8"
  }
 },
 "nbformat": 4,
 "nbformat_minor": 5
}
