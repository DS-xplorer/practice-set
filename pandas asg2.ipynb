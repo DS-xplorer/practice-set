{
 "cells": [
  {
   "cell_type": "code",
   "execution_count": 1,
   "id": "fc63bed1",
   "metadata": {},
   "outputs": [
    {
     "name": "stdout",
     "output_type": "stream",
     "text": [
      "     A   B   C\n",
      "1  egg  34   0\n",
      "3  fgg  56  90\n",
      "5  tgg  12  80\n",
      "7  wgg  67  70\n"
     ]
    }
   ],
   "source": [
    "# Q1 Given a Pandas DataFrame df with columns 'A', 'B', and 'C', write a Python function to re-index the DataFrame with a new index that starts from 1 and increments by 2 for each row.\n",
    "\n",
    "import pandas as pd\n",
    "data={\"A\":[\"egg\",\"fgg\",\"tgg\",\"wgg\"],\n",
    "      \"B\":[34,56,12,67],\n",
    "      \"C\":[00,90,80,70],\n",
    "}\n",
    "l=[1,3,5,7]\n",
    "df=pd.DataFrame(data,index=l)\n",
    "print(df)"
   ]
  },
  {
   "cell_type": "code",
   "execution_count": 2,
   "id": "202d45b2",
   "metadata": {},
   "outputs": [
    {
     "name": "stdout",
     "output_type": "stream",
     "text": [
      "   num\n",
      "0   10\n",
      "1   20\n",
      "2   30\n",
      "num    60\n",
      "dtype: int64\n"
     ]
    }
   ],
   "source": [
    "# Q3. You have a Pandas DataFrame df with a column named 'Values'. Write a Python function that iterates over the DataFrame and calculates the sum of the first three values in the 'Values' column. The\n",
    "# function should print the sum to the console.\n",
    "import pandas as pd\n",
    "data={\"num\":[10, 20, 30, 40, 50]}\n",
    "\n",
    "df=pd.DataFrame(data)\n",
    "g=df.loc[0:2,[\"num\"]]\n",
    "print(g)\n",
    "print(g.sum())"
   ]
  },
  {
   "cell_type": "code",
   "execution_count": 3,
   "id": "695fed6a",
   "metadata": {},
   "outputs": [
    {
     "name": "stdout",
     "output_type": "stream",
     "text": [
      "        text  Word_Count\n",
      "0      Given           5\n",
      "1          a           1\n",
      "2     Pandas           6\n",
      "3  DataFrame           9\n",
      "4         df           2\n",
      "5       with           4\n",
      "6          a           1\n",
      "7     column           6\n"
     ]
    }
   ],
   "source": [
    "#Q4. Given a Pandas DataFrame df with a column 'Text', write a Python function to create a new column 'Word_Count' \n",
    "# that contains the number of words in each row of the 'Text' column.\n",
    "\n",
    "import pandas as pd\n",
    "data={\"text\":[\"Given\", \"a\" ,\"Pandas\",\"DataFrame\",\"df\", \"with\", \"a\",\"column\"]\n",
    "              }\n",
    "df=pd.DataFrame(data)\n",
    "df['Word_Count']=df[\"text\"].apply(len)\n",
    "print(df)"
   ]
  },
  {
   "cell_type": "code",
   "execution_count": 4,
   "id": "a3288694",
   "metadata": {},
   "outputs": [
    {
     "name": "stdout",
     "output_type": "stream",
     "text": [
      "                     Email       username\n",
      "0     john.doe@example.com       john.doe\n",
      "1      alice123@domain.org       alice123\n",
      "2      vibha@myemail.co.in          vibha\n",
      "3  user.name+tag@gmail.com  user.name+tag\n"
     ]
    }
   ],
   "source": [
    "# Q7. You have a Pandas DataFrame df that contains a column named 'Email' that contains email addresses in the format 'username@domain.com'. \n",
    "# Write a Python function that creates a new column 'Username' in df that contains only the username part of each email address. The\n",
    "#  username is the part of the email aress that appears before the '@' symbol. For example, if the email address is 'john.doe@example.com', \n",
    "# the 'Username' column should contain 'john.doe'. Yourfunction should extract the username from each email address and store it in the new \n",
    "# 'Username' column.\n",
    "\n",
    "import pandas as pd\n",
    "df = pd.DataFrame({\n",
    "    'Email': [\n",
    "        'john.doe@example.com',\n",
    "        'alice123@domain.org',\n",
    "        'vibha@myemail.co.in',\n",
    "        'user.name+tag@gmail.com'\n",
    "    ]\n",
    "})\n",
    "df[\"username\"]=df[\"Email\"].str.split(\"@\").str[0]\n",
    "print(df)"
   ]
  },
  {
   "cell_type": "code",
   "execution_count": 6,
   "id": "ee7ac3e0",
   "metadata": {},
   "outputs": [
    {
     "name": "stdout",
     "output_type": "stream",
     "text": [
      "   A  B  C\n",
      "0  3  5  1\n",
      "1  8  3  7\n",
      "2  6  9  4\n",
      "3  2  3  5\n",
      "4  9  1  2\n",
      "   A  B  C\n",
      "1  8  3  7\n",
      "2  6  9  4\n",
      "4  9  1  2\n"
     ]
    }
   ],
   "source": [
    "#Q8. You have a Pandas DataFrame df with columns 'A', 'B', and 'C'. Write a Python function that selects\n",
    "# all rows where the value in column 'A' is greater than 5 and the value in column 'B' is less than 10. The\n",
    "# function should return a new DataFrame that contains only the selected rows.\n",
    "\n",
    "import pandas as pd \n",
    "df=pd.DataFrame({\n",
    "    \"A\":[3,8,6,2,9],\n",
    "    \"B\":[5,3,9,3,1],\n",
    "    \"C\":[1,7,4,5,2]\n",
    "})\n",
    "print(df)\n",
    "print(df[(df[\"A\"]>5) & (df[\"B\"]<10)])"
   ]
  },
  {
   "cell_type": "code",
   "execution_count": 35,
   "id": "a826d2d6",
   "metadata": {},
   "outputs": [
    {
     "name": "stdout",
     "output_type": "stream",
     "text": [
      "values    54.0\n",
      "dtype: float64\n",
      "values    31.780497\n",
      "dtype: float64\n",
      "values    56.0\n",
      "dtype: float64\n"
     ]
    }
   ],
   "source": [
    "# Q9. Given a Pandas DataFrame df with a column 'Values', write a Python function to calculate the mean, \n",
    "# median, and standard deviation of the values in the 'Values' column.\n",
    "\n",
    "import pandas as pd\n",
    "a={ \"values\":[12,34,56,78,90]\n",
    "}\n",
    "df=pd.DataFrame(a)\n",
    "print(df.mean())\n",
    "print(df.std())\n",
    "print(df.median())\n"
   ]
  },
  {
   "cell_type": "code",
   "execution_count": null,
   "id": "a083db95",
   "metadata": {},
   "outputs": [],
   "source": [
    "# Q10. Given a Pandas DataFrame df with a column 'Sales' and a column 'Date', write a Python function to create a new column 'MovingAverage' \n",
    "# that contains the moving average of the sales for the past 7 days for each row in the DataFrame. The moving average should be calculated\n",
    "#  using a window of size 7 and should include the current day."
   ]
  },
  {
   "cell_type": "code",
   "execution_count": 1,
   "id": "8ef61f2b",
   "metadata": {},
   "outputs": [
    {
     "name": "stdout",
     "output_type": "stream",
     "text": [
      "        Date  Sales  MovingAverage\n",
      "0 2025-07-01    200     200.000000\n",
      "1 2025-07-02    220     210.000000\n",
      "2 2025-07-03    250     223.333333\n",
      "3 2025-07-04    270     235.000000\n",
      "4 2025-07-05    300     248.000000\n",
      "5 2025-07-06    320     260.000000\n",
      "6 2025-07-07    350     272.857143\n",
      "7 2025-07-08    370     297.142857\n",
      "8 2025-07-09    400     322.857143\n",
      "9 2025-07-10    420     347.142857\n"
     ]
    }
   ],
   "source": [
    "import pandas as pd\n",
    "df = pd.DataFrame({\n",
    "    'Date': pd.date_range(start='2025-07-01', periods=10),\n",
    "    'Sales': [200, 220, 250, 270, 300, 320, 350, 370, 400, 420]\n",
    "})\n",
    "df['MovingAverage']=df['Sales'].rolling(window=7,min_periods=1).mean()\n",
    "print(df)"
   ]
  },
  {
   "cell_type": "code",
   "execution_count": 28,
   "id": "49b0b681",
   "metadata": {},
   "outputs": [
    {
     "data": {
      "text/html": [
       "<div>\n",
       "<style scoped>\n",
       "    .dataframe tbody tr th:only-of-type {\n",
       "        vertical-align: middle;\n",
       "    }\n",
       "\n",
       "    .dataframe tbody tr th {\n",
       "        vertical-align: top;\n",
       "    }\n",
       "\n",
       "    .dataframe thead th {\n",
       "        text-align: right;\n",
       "    }\n",
       "</style>\n",
       "<table border=\"1\" class=\"dataframe\">\n",
       "  <thead>\n",
       "    <tr style=\"text-align: right;\">\n",
       "      <th></th>\n",
       "      <th>date</th>\n",
       "      <th>week_day</th>\n",
       "    </tr>\n",
       "  </thead>\n",
       "  <tbody>\n",
       "    <tr>\n",
       "      <th>0</th>\n",
       "      <td>2025-01-01</td>\n",
       "      <td>Wednesday</td>\n",
       "    </tr>\n",
       "    <tr>\n",
       "      <th>1</th>\n",
       "      <td>2025-01-02</td>\n",
       "      <td>Thursday</td>\n",
       "    </tr>\n",
       "    <tr>\n",
       "      <th>2</th>\n",
       "      <td>2025-01-03</td>\n",
       "      <td>Friday</td>\n",
       "    </tr>\n",
       "    <tr>\n",
       "      <th>3</th>\n",
       "      <td>2025-01-04</td>\n",
       "      <td>Saturday</td>\n",
       "    </tr>\n",
       "    <tr>\n",
       "      <th>4</th>\n",
       "      <td>2025-01-05</td>\n",
       "      <td>Sunday</td>\n",
       "    </tr>\n",
       "    <tr>\n",
       "      <th>5</th>\n",
       "      <td>2025-01-06</td>\n",
       "      <td>Monday</td>\n",
       "    </tr>\n",
       "    <tr>\n",
       "      <th>6</th>\n",
       "      <td>2025-01-07</td>\n",
       "      <td>Tuesday</td>\n",
       "    </tr>\n",
       "    <tr>\n",
       "      <th>7</th>\n",
       "      <td>2025-01-08</td>\n",
       "      <td>Wednesday</td>\n",
       "    </tr>\n",
       "    <tr>\n",
       "      <th>8</th>\n",
       "      <td>2025-01-09</td>\n",
       "      <td>Thursday</td>\n",
       "    </tr>\n",
       "    <tr>\n",
       "      <th>9</th>\n",
       "      <td>2025-01-10</td>\n",
       "      <td>Friday</td>\n",
       "    </tr>\n",
       "  </tbody>\n",
       "</table>\n",
       "</div>"
      ],
      "text/plain": [
       "        date   week_day\n",
       "0 2025-01-01  Wednesday\n",
       "1 2025-01-02   Thursday\n",
       "2 2025-01-03     Friday\n",
       "3 2025-01-04   Saturday\n",
       "4 2025-01-05     Sunday\n",
       "5 2025-01-06     Monday\n",
       "6 2025-01-07    Tuesday\n",
       "7 2025-01-08  Wednesday\n",
       "8 2025-01-09   Thursday\n",
       "9 2025-01-10     Friday"
      ]
     },
     "execution_count": 28,
     "metadata": {},
     "output_type": "execute_result"
    }
   ],
   "source": [
    "# Q11. You have a Pandas DataFrame df with a column 'Date'. Write a Python function that creates a new column 'Weekday' in the DataFrame. The\n",
    "# 'Weekday' column should contain the weekday name (e.g. Monday, Tuesday) corresponding to each date in the 'Date' column.\n",
    "\n",
    "import pandas as pd \n",
    "df=pd.DataFrame({\n",
    "    \"date\": pd.date_range(start=\"2025-01-01\",periods=10)\n",
    "})\n",
    "def week_days(df):\n",
    "    df[\"week_day\"]=df[\"date\"].dt.day_name()\n",
    "    return df\n",
    "week_days(df)\n",
    "\n"
   ]
  },
  {
   "cell_type": "markdown",
   "id": "b7911b9f",
   "metadata": {},
   "source": []
  },
  {
   "cell_type": "code",
   "execution_count": 48,
   "id": "15ee19c6",
   "metadata": {},
   "outputs": [
    {
     "name": "stdout",
     "output_type": "stream",
     "text": [
      "Empty DataFrame\n",
      "Columns: [date, time]\n",
      "Index: []\n"
     ]
    }
   ],
   "source": [
    "# Q12. Given a Pandas DataFrame df with a column 'Date' that contains timestamps, write a Python function to select all rows \n",
    "# where the date is between '2023-01-01' and '2023-01-31'.\n",
    "df=pd.DataFrame({\n",
    "      \"date\": pd.date_range(start=\"2025-01-01\",end=\"2023-01-31\")})\n",
    "timee = pd.Timedelta(hours=6, minutes=45)\n",
    "df[\"time\"]=timee\n",
    "print(df)"
   ]
  },
  {
   "cell_type": "code",
   "execution_count": 61,
   "id": "ebc21a0b",
   "metadata": {},
   "outputs": [
    {
     "name": "stdout",
     "output_type": "stream",
     "text": [
      "         date            time\n",
      "2  2025-01-03 0 days 06:45:00\n",
      "3  2025-01-04 0 days 06:45:00\n",
      "4  2025-01-05 0 days 06:45:00\n",
      "5  2025-01-06 0 days 06:45:00\n",
      "6  2025-01-07 0 days 06:45:00\n",
      "7  2025-01-08 0 days 06:45:00\n",
      "8  2025-01-09 0 days 06:45:00\n",
      "9  2025-01-10 0 days 06:45:00\n",
      "10 2025-01-11 0 days 06:45:00\n",
      "11 2025-01-12 0 days 06:45:00\n",
      "12 2025-01-13 0 days 06:45:00\n",
      "13 2025-01-14 0 days 06:45:00\n"
     ]
    }
   ],
   "source": [
    "date=pd.date_range(start=\"2025-01-01\",end=\"2025-01-31\")\n",
    "df=pd.DataFrame({\"date\":date})\n",
    "timee = pd.Timedelta(hours=6, minutes=45)\n",
    "df[\"time\"]=timee\n",
    "a=df[(df[\"date\"]>\"2025-01-02\") & (df[\"date\"]<\"2025-01-15\")]\n",
    "print(a)\n",
    "\n"
   ]
  },
  {
   "cell_type": "markdown",
   "id": "6a970a99",
   "metadata": {},
   "source": []
  },
  {
   "cell_type": "markdown",
   "id": "d8098220",
   "metadata": {},
   "source": []
  },
  {
   "cell_type": "code",
   "execution_count": null,
   "id": "6ace9c82",
   "metadata": {},
   "outputs": [],
   "source": []
  },
  {
   "cell_type": "markdown",
   "id": "318a5a25",
   "metadata": {},
   "source": []
  },
  {
   "cell_type": "markdown",
   "id": "6c18438a",
   "metadata": {},
   "source": []
  }
 ],
 "metadata": {
  "kernelspec": {
   "display_name": "Python 3",
   "language": "python",
   "name": "python3"
  },
  "language_info": {
   "codemirror_mode": {
    "name": "ipython",
    "version": 3
   },
   "file_extension": ".py",
   "mimetype": "text/x-python",
   "name": "python",
   "nbconvert_exporter": "python",
   "pygments_lexer": "ipython3",
   "version": "3.12.4"
  }
 },
 "nbformat": 4,
 "nbformat_minor": 5
}
