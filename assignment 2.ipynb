{
 "cells": [
  {
   "cell_type": "code",
   "execution_count": null,
   "id": "d605bfc9-2949-4a71-ac02-9988fd4f2d7a",
   "metadata": {},
   "outputs": [],
   "source": [
    "\"\"\" there are 2 type of comment\n",
    "      :single line comment\n",
    "      :multiple line comment\n",
    "    \n",
    "    :single line comment = we use (#) symbol.\"\"\"\n",
    "    \n",
    "    # this is a comment\n",
    "    \n",
    "    #:multiple line comment = (\"\"\"     \"\"\") symbol is used\n",
    "    \"\"\" this is comment and \n",
    "this is python \"\"\"\n",
    "\n"
   ]
  },
  {
   "cell_type": "code",
   "execution_count": null,
   "id": "d59da546-314a-4f45-9fda-c3e44b194127",
   "metadata": {},
   "outputs": [],
   "source": [
    "\n"
   ]
  },
  {
   "cell_type": "code",
   "execution_count": 1,
   "id": "747ab578-e5d3-4f8c-b444-1f7556dfe0e0",
   "metadata": {},
   "outputs": [],
   "source": [
    "# here varibale is name from which we store any kind of value here are the examples\n",
    "a=\"skills\"\n",
    "b=23\n",
    "l32=43.45"
   ]
  },
  {
   "cell_type": "code",
   "execution_count": null,
   "id": "00ba2cb3-0d9a-4a55-b269-e2077984f06d",
   "metadata": {},
   "outputs": [],
   "source": [
    "\n",
    "\n"
   ]
  },
  {
   "cell_type": "code",
   "execution_count": 2,
   "id": "4c023d13-9f16-4321-8589-0985189bacb4",
   "metadata": {},
   "outputs": [
    {
     "data": {
      "text/plain": [
       "'345'"
      ]
     },
     "execution_count": 2,
     "metadata": {},
     "output_type": "execute_result"
    }
   ],
   "source": [
    "# in python we canconvert any data type in another data type , here is the example\n",
    "a=345\n",
    "str(a)"
   ]
  },
  {
   "cell_type": "code",
   "execution_count": 3,
   "id": "9964ac15-335a-4427-ae5c-5422161849e7",
   "metadata": {},
   "outputs": [
    {
     "data": {
      "text/plain": [
       "list"
      ]
     },
     "execution_count": 3,
     "metadata": {},
     "output_type": "execute_result"
    }
   ],
   "source": [
    "l1=[3,45,\"vibha\",0.43]\n",
    "type(l1)"
   ]
  },
  {
   "cell_type": "code",
   "execution_count": 4,
   "id": "0d819398-899b-418a-8b4c-c27bf3b78400",
   "metadata": {},
   "outputs": [
    {
     "data": {
      "text/plain": [
       "tuple"
      ]
     },
     "execution_count": 4,
     "metadata": {},
     "output_type": "execute_result"
    }
   ],
   "source": [
    "l1=tuple(l1)\n",
    "type(l1)"
   ]
  },
  {
   "cell_type": "code",
   "execution_count": 5,
   "id": "9bdb88b4-72e8-4a1b-9a57-06981c8663c4",
   "metadata": {},
   "outputs": [
    {
     "data": {
      "text/plain": [
       "set"
      ]
     },
     "execution_count": 5,
     "metadata": {},
     "output_type": "execute_result"
    }
   ],
   "source": [
    "l1=set(l1)\n",
    "type(l1)"
   ]
  },
  {
   "cell_type": "code",
   "execution_count": 6,
   "id": "8b5771de-ab78-43e9-85de-a60cf62dfab5",
   "metadata": {},
   "outputs": [
    {
     "data": {
      "text/plain": [
       "float"
      ]
     },
     "execution_count": 6,
     "metadata": {},
     "output_type": "execute_result"
    }
   ],
   "source": [
    "a=float(a)\n",
    "type(a)\n"
   ]
  },
  {
   "cell_type": "code",
   "execution_count": null,
   "id": "a02da753-3859-4335-bb8a-3628c076b02b",
   "metadata": {},
   "outputs": [],
   "source": [
    "\n"
   ]
  },
  {
   "cell_type": "code",
   "execution_count": 7,
   "id": "1a56fe89-67fd-451e-aea1-b490f784ab65",
   "metadata": {},
   "outputs": [
    {
     "data": {
      "text/plain": [
       "[2, 3]"
      ]
     },
     "execution_count": 7,
     "metadata": {},
     "output_type": "execute_result"
    }
   ],
   "source": [
    "my_list=[1,2,3,4,5]\n",
    "sub_list=my_list[1:3]\n",
    "sub_list"
   ]
  },
  {
   "cell_type": "code",
   "execution_count": null,
   "id": "43b0ecbc-da6c-487b-9874-15fa4cf7d04e",
   "metadata": {},
   "outputs": [],
   "source": [
    "\n",
    "\n"
   ]
  },
  {
   "cell_type": "code",
   "execution_count": 9,
   "id": "09a2d1f5-ec44-4c04-ae95-fc11c368adbd",
   "metadata": {},
   "outputs": [
    {
     "data": {
      "text/plain": [
       "complex"
      ]
     },
     "execution_count": 9,
     "metadata": {},
     "output_type": "execute_result"
    }
   ],
   "source": [
    "# in maths we write the complex number in this way 2+3i\n",
    "# but in python we writ the complex number in this way 2+3j\n",
    "a=2+3j\n",
    "type(a)"
   ]
  },
  {
   "cell_type": "code",
   "execution_count": 10,
   "id": "4477292b-dc3a-49bd-9b81-dcbe023d2e67",
   "metadata": {},
   "outputs": [
    {
     "data": {
      "text/plain": [
       "2.0"
      ]
     },
     "execution_count": 10,
     "metadata": {},
     "output_type": "execute_result"
    }
   ],
   "source": [
    "a.real"
   ]
  },
  {
   "cell_type": "code",
   "execution_count": 11,
   "id": "70eaa5ac-61c8-4878-bdde-4c7a41dd9d4a",
   "metadata": {},
   "outputs": [
    {
     "data": {
      "text/plain": [
       "3.0"
      ]
     },
     "execution_count": 11,
     "metadata": {},
     "output_type": "execute_result"
    }
   ],
   "source": [
    "a.imag"
   ]
  },
  {
   "cell_type": "code",
   "execution_count": null,
   "id": "6852c75a-86c7-4043-9c57-9487b5cd3cf8",
   "metadata": {},
   "outputs": [],
   "source": [
    "\n",
    "\n"
   ]
  },
  {
   "cell_type": "code",
   "execution_count": 12,
   "id": "9fcfb1a3-2165-43f3-a6c3-f919d7665864",
   "metadata": {},
   "outputs": [
    {
     "data": {
      "text/plain": [
       "float"
      ]
     },
     "execution_count": 12,
     "metadata": {},
     "output_type": "execute_result"
    }
   ],
   "source": [
    "# here the variable is age and we gonna assign 25 to it\n",
    "age=25\n",
    "\n",
    "\n",
    "# here we have to assign 9.99 to a variable and it is in float data type\n",
    "a=9.99\n",
    "type(a)\n"
   ]
  },
  {
   "cell_type": "code",
   "execution_count": null,
   "id": "aead68e8-d5bf-428b-9ea0-69cf3b11562d",
   "metadata": {},
   "outputs": [],
   "source": [
    "\n",
    "\n"
   ]
  },
  {
   "cell_type": "code",
   "execution_count": 13,
   "id": "8657dfb5-d71c-4970-a0fe-0a3c5b8fc23c",
   "metadata": {},
   "outputs": [
    {
     "name": "stdout",
     "output_type": "stream",
     "text": [
      "vibha rana\n"
     ]
    }
   ],
   "source": [
    "# here we have to assign our full name and then print\n",
    "name=\"vibha rana\"\n",
    "print(name)\n"
   ]
  },
  {
   "cell_type": "code",
   "execution_count": null,
   "id": "7fb508d8-6c38-4821-aa5f-048cee2e81e8",
   "metadata": {},
   "outputs": [],
   "source": [
    "\n",
    "\n"
   ]
  },
  {
   "cell_type": "code",
   "execution_count": 14,
   "id": "6bc8fc89-068c-4adb-862b-a2335f16c146",
   "metadata": {},
   "outputs": [],
   "source": [
    "s=\"hello,world!\"\n",
    "sub_string=s[6:11]\n",
    "\n",
    "sub_string"
   ]
  },
  {
   "cell_type": "code",
   "execution_count": null,
   "id": "579a3652-952b-4e57-a571-a044623dca8e",
   "metadata": {},
   "outputs": [],
   "source": []
  }
 ],
 "metadata": {
  "kernelspec": {
   "display_name": "Python 3 (ipykernel)",
   "language": "python",
   "name": "python3"
  },
  "language_info": {
   "codemirror_mode": {
    "name": "ipython",
    "version": 3
   },
   "file_extension": ".py",
   "mimetype": "text/x-python",
   "name": "python",
   "nbconvert_exporter": "python",
   "pygments_lexer": "ipython3",
   "version": "3.10.8"
  }
 },
 "nbformat": 4,
 "nbformat_minor": 5
}
